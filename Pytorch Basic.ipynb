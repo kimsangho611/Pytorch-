{
 "cells": [
  {
   "cell_type": "code",
   "execution_count": 1,
   "metadata": {},
   "outputs": [],
   "source": [
    "import torch"
   ]
  },
  {
   "cell_type": "markdown",
   "metadata": {},
   "source": [
    "# Pytorch 기초 사용법"
   ]
  },
  {
   "cell_type": "code",
   "execution_count": 2,
   "metadata": {},
   "outputs": [
    {
     "data": {
      "text/plain": [
       "torch.Size([9])"
      ]
     },
     "execution_count": 2,
     "metadata": {},
     "output_type": "execute_result"
    }
   ],
   "source": [
    "nums = torch.arange(9)\n",
    "nums.shape"
   ]
  },
  {
   "cell_type": "code",
   "execution_count": 3,
   "metadata": {},
   "outputs": [
    {
     "data": {
      "text/plain": [
       "torch.Tensor"
      ]
     },
     "execution_count": 3,
     "metadata": {},
     "output_type": "execute_result"
    }
   ],
   "source": [
    "type(nums)"
   ]
  },
  {
   "cell_type": "code",
   "execution_count": 4,
   "metadata": {},
   "outputs": [
    {
     "data": {
      "text/plain": [
       "array([0, 1, 2, 3, 4, 5, 6, 7, 8])"
      ]
     },
     "execution_count": 4,
     "metadata": {},
     "output_type": "execute_result"
    }
   ],
   "source": [
    "nums.numpy()"
   ]
  },
  {
   "cell_type": "code",
   "execution_count": 5,
   "metadata": {},
   "outputs": [
    {
     "data": {
      "text/plain": [
       "tensor([[0, 1, 2],\n",
       "        [3, 4, 5],\n",
       "        [6, 7, 8]])"
      ]
     },
     "execution_count": 5,
     "metadata": {},
     "output_type": "execute_result"
    }
   ],
   "source": [
    "nums.reshape(3, 3)"
   ]
  },
  {
   "cell_type": "code",
   "execution_count": 6,
   "metadata": {},
   "outputs": [
    {
     "data": {
      "text/plain": [
       "tensor([[0, 1, 2],\n",
       "        [3, 4, 5],\n",
       "        [6, 7, 8]])"
      ]
     },
     "execution_count": 6,
     "metadata": {},
     "output_type": "execute_result"
    }
   ],
   "source": [
    "num = torch.arange(9).reshape(3, 3)\n",
    "num"
   ]
  },
  {
   "cell_type": "code",
   "execution_count": 9,
   "metadata": {},
   "outputs": [
    {
     "data": {
      "text/plain": [
       "tensor([[ 0,  2,  4],\n",
       "        [ 6,  8, 10],\n",
       "        [12, 14, 16]])"
      ]
     },
     "execution_count": 9,
     "metadata": {},
     "output_type": "execute_result"
    }
   ],
   "source": [
    "num + num"
   ]
  },
  {
   "cell_type": "markdown",
   "metadata": {},
   "source": [
    "# 텐서의 생성과 변환\n",
    "- 텐서는 파이토치의 가장 기본이 되는 데이터 구조와 기능을 제공하는 다차원 배열을 처리하기 위한 데이터 구조 입니다.\n",
    "- API 형태는 `Numpy`의 ndarray와 비슷하며 GPU를 사용하는 계산도 지원한다.\n",
    "- 텐서는 각 데이터 형태별러 정의되어 있다.\n",
    "    - `torch.FloatTensor` : 32-bit float point\n",
    "    - `torch.LongTensor` : 64-bit signed integer\n",
    "- GPU상에서 계산을 할때는 torch.cuda.FloatTensor을 사용한다. 일반적으로 Tensor는 FloatTensor라고 생각하면 된다.\n",
    "- 어떤 형태의 텐서에 상관없이 torch.tensor라는 함수로 작성할 수 있다."
   ]
  },
  {
   "cell_type": "code",
   "execution_count": 32,
   "metadata": {},
   "outputs": [],
   "source": [
    "import torch\n",
    "import numpy as np\n",
    "import matplotlib.pyplot as plt\n",
    "%matplotlib inline"
   ]
  },
  {
   "cell_type": "code",
   "execution_count": 13,
   "metadata": {},
   "outputs": [
    {
     "data": {
      "text/plain": [
       "tensor([[1, 2],\n",
       "        [3, 4]])"
      ]
     },
     "execution_count": 13,
     "metadata": {},
     "output_type": "execute_result"
    }
   ],
   "source": [
    "# 2차원 형태의 list를 만들어서 텐서 생성\n",
    "torch.tensor([[1, 2], [3, 4]])"
   ]
  },
  {
   "cell_type": "code",
   "execution_count": 14,
   "metadata": {},
   "outputs": [
    {
     "data": {
      "text/plain": [
       "tensor([[1., 2.],\n",
       "        [3., 4.]], device='cuda:0')"
      ]
     },
     "execution_count": 14,
     "metadata": {},
     "output_type": "execute_result"
    }
   ],
   "source": [
    "# device를 지정하여 GPU에 텐서를 만듬\n",
    "torch.tensor([[1, 2], [3, 4.]], device = \"cuda:0\")"
   ]
  },
  {
   "cell_type": "code",
   "execution_count": 16,
   "metadata": {},
   "outputs": [
    {
     "data": {
      "text/plain": [
       "tensor([[1., 2.],\n",
       "        [3., 4.]], dtype=torch.float64)"
      ]
     },
     "execution_count": 16,
     "metadata": {},
     "output_type": "execute_result"
    }
   ],
   "source": [
    "# dtype을 이용하여 텐서의 데이터 형태 지정가능\n",
    "torch.tensor([[1, 2], [3, 4.]], dtype = torch.float64)"
   ]
  },
  {
   "cell_type": "code",
   "execution_count": 17,
   "metadata": {},
   "outputs": [
    {
     "data": {
      "text/plain": [
       "tensor([0, 1, 2, 3, 4, 5, 6, 7, 8, 9])"
      ]
     },
     "execution_count": 17,
     "metadata": {},
     "output_type": "execute_result"
    }
   ],
   "source": [
    "# arange를 이용한 1차원 텐서\n",
    "torch.arange(0, 10)"
   ]
  },
  {
   "cell_type": "code",
   "execution_count": 18,
   "metadata": {},
   "outputs": [
    {
     "data": {
      "text/plain": [
       "tensor([[0., 0., 0., 0., 0.],\n",
       "        [0., 0., 0., 0., 0.],\n",
       "        [0., 0., 0., 0., 0.]], device='cuda:0')"
      ]
     },
     "execution_count": 18,
     "metadata": {},
     "output_type": "execute_result"
    }
   ],
   "source": [
    "# 모든 값이 0인 3 * 5의 텐서를 작성하여 to메소드를 사용해 GPU에 전송\n",
    "torch.zeros(3, 5).to(\"cuda:0\")"
   ]
  },
  {
   "cell_type": "code",
   "execution_count": 19,
   "metadata": {},
   "outputs": [
    {
     "data": {
      "text/plain": [
       "tensor([[-1.7060,  0.9628,  0.3808, -2.2241, -0.2123],\n",
       "        [-0.1785, -1.2674,  0.2534,  0.1733,  1.2188],\n",
       "        [-2.3550, -0.9656, -1.5710,  1.4030, -0.3438]])"
      ]
     },
     "execution_count": 19,
     "metadata": {},
     "output_type": "execute_result"
    }
   ],
   "source": [
    "# normal distribution으로 행렬 생성\n",
    "torch.randn(3, 5)"
   ]
  },
  {
   "cell_type": "code",
   "execution_count": 20,
   "metadata": {},
   "outputs": [
    {
     "data": {
      "text/plain": [
       "torch.Size([3, 5])"
      ]
     },
     "execution_count": 20,
     "metadata": {},
     "output_type": "execute_result"
    }
   ],
   "source": [
    "# Tensor의 shape은 size()로 확인\n",
    "t = torch.randn(3, 5)\n",
    "t.size()"
   ]
  },
  {
   "cell_type": "markdown",
   "metadata": {},
   "source": [
    "- 텐서는 Numpy의 ndarray로 쉽게 변환가능\n",
    "- 주의!!!!!, GPU상의 텐서는 그대로 변환할 수 없으며, CPU로 이동후 변환해야 한다"
   ]
  },
  {
   "cell_type": "code",
   "execution_count": 25,
   "metadata": {},
   "outputs": [
    {
     "name": "stdout",
     "output_type": "stream",
     "text": [
      "<class 'torch.Tensor'>\n",
      "<class 'numpy.ndarray'>\n"
     ]
    }
   ],
   "source": [
    "# numpy를 사용해 ndarray로 변환\n",
    "t = torch.tensor([[1, 2], [3, 4.]])\n",
    "print(type(t))\n",
    "\n",
    "x = t.numpy()\n",
    "print(type(x))"
   ]
  },
  {
   "cell_type": "code",
   "execution_count": 30,
   "metadata": {},
   "outputs": [
    {
     "name": "stdout",
     "output_type": "stream",
     "text": [
      "tensor([[1., 2.],\n",
      "        [3., 4.]], device='cuda:0') <class 'torch.Tensor'>\n",
      "[[1. 2.]\n",
      " [3. 4.]] <class 'numpy.ndarray'>\n"
     ]
    }
   ],
   "source": [
    "# GPU 상의 텐서의 경우 to()로 CPU상의 텐서로 변환한 뒤 ndarray로 변환해야 한다.\n",
    "t = torch.tensor([[1, 2], [3, 4.]], device=\"cuda:0\")\n",
    "print(t, type(t))\n",
    "\n",
    "x = t.to(\"cpu\").numpy()\n",
    "print(x, type(x))"
   ]
  },
  {
   "cell_type": "markdown",
   "metadata": {},
   "source": [
    "- `torch.linspace(start, end, step)` : 시작과 끝을 포함하고 step의 개수만큼 원소를 가진 등차수열을 생성함\n",
    "- torch에서 바로 이런 값들을 만들면 torch 내부적으로도 사용할 수 있지만 numpy와 호환되는 라이브러리에도 사용가능하다"
   ]
  },
  {
   "cell_type": "code",
   "execution_count": 33,
   "metadata": {},
   "outputs": [
    {
     "data": {
      "text/plain": [
       "[<matplotlib.lines.Line2D at 0x7f97f0f92130>]"
      ]
     },
     "execution_count": 33,
     "metadata": {},
     "output_type": "execute_result"
    },
    {
     "data": {
      "image/png": "[encoded data removed]",
      "text/plain": [
       "<Figure size 432x288 with 1 Axes>"
      ]
     },
     "metadata": {
      "needs_background": "light"
     },
     "output_type": "display_data"
    }
   ],
   "source": [
    "x = torch.linspace(0, 10, 5)\n",
    "y = torch.exp(x)\n",
    "\n",
    "plt.plot(x.numpy(), y.numpy())"
   ]
  },
  {
   "cell_type": "markdown",
   "metadata": {},
   "source": [
    "# Tensor의 인덱스 조작\n",
    "- 인덱스의 경우 Numpy와 같이 조작하는 것이 가능하다. 배열처럼 인덱스를 바로 지정 가능하고 슬라이스, 마스크 배열을 사용할 수 있다."
   ]
  },
  {
   "cell_type": "code",
   "execution_count": 40,
   "metadata": {},
   "outputs": [
    {
     "name": "stdout",
     "output_type": "stream",
     "text": [
      "tensor(3)\n",
      "tensor([[1, 2],\n",
      "        [4, 5]])\n",
      "tensor([4, 5, 6])\n",
      "tensor([[ 1, 10,  3],\n",
      "        [ 4, 10,  6]])\n",
      "tensor([[ 1, 20,  3],\n",
      "        [ 4, 20, 20]])\n"
     ]
    }
   ],
   "source": [
    "t = torch.tensor([\n",
    "    [1, 2, 3], [4, 5, 6]\n",
    "])\n",
    "# index 접근\n",
    "print(t[0, 2])\n",
    "# slice로 접근 \n",
    "print(t[:, :2])\n",
    "# 마스크 배열을 이용해 True값만 추출\n",
    "print(t[t > 3])\n",
    "# 슬라이스를 이용해 일괄 대입\n",
    "t[:, 1] = 10\n",
    "print(t)\n",
    "# 마스크 배열을 사용해 일괄 대입\n",
    "t[t > 5] = 20\n",
    "print(t)"
   ]
  },
  {
   "cell_type": "markdown",
   "metadata": {},
   "source": [
    "# Tensor Operation\n",
    "- Tensor는 Numpy의 ndarray와 같이 다양한 수학 연산이 가능하며 GPU를 사용할 시 더 빠른 연산이 가능하다.\n",
    "- 텐서에서의 사칙연산은 같은 타입의 텐서 간 또는 텐서와 파이썬의 스칼라 값 사이에서만 가능하다.\n",
    "    - 타입이 다르면 텐서간의 연산이어도 연산이 되지 안는다. FloatTensor, DoubleTensor간의 사칙 연산은 오류가 발생한다\n",
    "- 스칼라 값을 연산할 때는 기본적으로 `Broadcasting`이 적용된다."
   ]
  },
  {
   "cell_type": "code",
   "execution_count": 42,
   "metadata": {},
   "outputs": [
    {
     "name": "stdout",
     "output_type": "stream",
     "text": [
      "tensor([11., 12., 13.])\n",
      "tensor([1., 4., 9.])\n",
      "tensor([  1.,  -8., -17.])\n",
      "tensor([ 8.,  9., 10.])\n",
      "tensor([[  0.,   2.,   4.],\n",
      "        [200., 400., 600.]])\n",
      "tensor([[  1.,   3.,   5.],\n",
      "        [101., 202., 303.]])\n",
      "tensor([[  0.,   2.,   4.],\n",
      "        [200., 400., 600.]])\n"
     ]
    }
   ],
   "source": [
    "v = torch.tensor([1, 2, 3.])\n",
    "w = torch.tensor([0, 10, 20])\n",
    "\n",
    "m = torch.tensor([\n",
    "    [0, 1, 2], [100, 200, 300.]\n",
    "])\n",
    "\n",
    "v2 = v + 10\n",
    "print(v2)\n",
    "\n",
    "v2 = v ** 2\n",
    "print(v2)\n",
    "\n",
    "z = v - w\n",
    "print(z)\n",
    "\n",
    "u = 2 * v - w / 10 + 6.0\n",
    "print(u)\n",
    "\n",
    "m2 = m * 2.0 # 행렬과 스칼라의 곱\n",
    "print(m2)\n",
    "\n",
    "print(m + v)\n",
    "\n",
    "print(m + m)"
   ]
  },
  {
   "cell_type": "markdown",
   "metadata": {},
   "source": [
    "# 텐서의 차원 조작\n",
    "- 텐서의 차원을 변경하는 `view`나 텐서를 결합하는 `stack`, `cat`, 차원을 교환하는 `t', `transpose`도 사용 가능\n",
    "- view의 경우 reshape과 동일한 역할 (추천 : reshape)\n",
    "- cat의 경우 다른 길이의 텐서를 하나로 묶을 때 사용됨\n",
    "- transpose의 경우 행렬의 전치 외에도 차원의 순서를 변경할 때 사용된다."
   ]
  },
  {
   "cell_type": "code",
   "execution_count": 52,
   "metadata": {},
   "outputs": [
    {
     "name": "stdout",
     "output_type": "stream",
     "text": [
      "tensor([[1],\n",
      "        [2],\n",
      "        [3],\n",
      "        [4]])\n",
      "tensor([[1],\n",
      "        [2],\n",
      "        [3],\n",
      "        [4]])\n",
      "tensor([1, 2, 3, 4])\n",
      "tensor([1, 2, 3, 4])\n",
      "tensor([[1, 2, 3, 4]])\n",
      "tensor([[1, 2, 3, 4]])\n",
      "tensor([[10., 40.],\n",
      "        [20., 50.],\n",
      "        [30., 60.]])\n",
      "tensor([[ 1.,  2., 10., 20., 30.],\n",
      "        [ 3.,  4., 40., 50., 60.]])\n"
     ]
    },
    {
     "data": {
      "text/plain": [
       "torch.Size([100, 3, 64, 32])"
      ]
     },
     "execution_count": 52,
     "metadata": {},
     "output_type": "execute_result"
    }
   ],
   "source": [
    "x1 = torch.tensor([\n",
    "    [1, 2], [3, 4]\n",
    "])\n",
    "x2 = torch.tensor([\n",
    "    [10, 20, 30], [40, 50, 60.]\n",
    "])\n",
    "\n",
    "print(x1.view(4, 1))\n",
    "\n",
    "print(x1.reshape(4, 1))\n",
    "\n",
    "print(x1.view(-1)) # 1차원 벡터로 변형\n",
    "\n",
    "print(x1.reshape(-1))\n",
    "\n",
    "print(x1.view(1, -1)) # -1을 사용하면 자동 계산함\n",
    "\n",
    "print(x1.reshape(1, -1))\n",
    "\n",
    "print(x2.t())\n",
    "\n",
    "print(torch.cat([x1, x2], dim=1))\n",
    "\n",
    "# transpose(dim1, dim2)을 사용하면 dim1의 차원과 dim2의 차원을 교환한다.\n",
    "hwc_img_data = torch.rand(100, 64, 32, 3)\n",
    "chw_img_data = hwc_img_data.transpose(1, 2).transpose(1, 3)\n",
    "# 첫번째 transpose : (100, 32, 64, 3)\n",
    "# 두번째 transpose : (100, 3, 64, 32)\n",
    "chw_img_data.size()"
   ]
  },
  {
   "cell_type": "markdown",
   "metadata": {},
   "source": [
    "# Tensor 생성\n",
    "- Tensor를 생성할 때 대표적으로 사용하는 함수가 `rand, zeros, ones`이다. 이 때 첫 인자는 dimension이다."
   ]
  },
  {
   "cell_type": "code",
   "execution_count": 53,
   "metadata": {},
   "outputs": [
    {
     "name": "stdout",
     "output_type": "stream",
     "text": [
      "tensor([[0.0778, 0.4926, 0.7533],\n",
      "        [0.6035, 0.5240, 0.7936]])\n"
     ]
    }
   ],
   "source": [
    "import torch\n",
    "x = torch.rand(2, 3)\n",
    "print(x)"
   ]
  },
  {
   "cell_type": "code",
   "execution_count": 56,
   "metadata": {},
   "outputs": [
    {
     "data": {
      "text/plain": [
       "tensor([1, 3, 0, 5, 2, 4])"
      ]
     },
     "execution_count": 56,
     "metadata": {},
     "output_type": "execute_result"
    }
   ],
   "source": [
    "# 순열 생성\n",
    "torch.torch.randperm(6) # 0과 n사이 값으로 n개의 순열을 생성"
   ]
  },
  {
   "cell_type": "code",
   "execution_count": 60,
   "metadata": {},
   "outputs": [
    {
     "name": "stdout",
     "output_type": "stream",
     "text": [
      "tensor([[0., 0., 0.],\n",
      "        [0., 0., 0.]])\n"
     ]
    },
    {
     "data": {
      "text/plain": [
       "tensor([[0., 0., 0.],\n",
       "        [0., 0., 0.]])"
      ]
     },
     "execution_count": 60,
     "metadata": {},
     "output_type": "execute_result"
    }
   ],
   "source": [
    "zeros = torch.zeros(2, 3)\n",
    "print(zeros)\n",
    "torch.zeros_like(zeros) # zeros_like and ones_like의 경우 인자로 받은 데이터의 크기와 똑같이 0 혹은 1로 채워진 값을 생성"
   ]
  },
  {
   "cell_type": "code",
   "execution_count": 61,
   "metadata": {},
   "outputs": [
    {
     "name": "stdout",
     "output_type": "stream",
     "text": [
      "tensor([[1., 1., 1.],\n",
      "        [1., 1., 1.]])\n"
     ]
    },
    {
     "data": {
      "text/plain": [
       "tensor([[1., 1., 1., 1.],\n",
       "        [1., 1., 1., 1.],\n",
       "        [1., 1., 1., 1.]])"
      ]
     },
     "execution_count": 61,
     "metadata": {},
     "output_type": "execute_result"
    }
   ],
   "source": [
    "print(torch.ones(2, 3))\n",
    "\n",
    "ones = torch.randn(3, 4)\n",
    "torch.ones_like(ones)"
   ]
  },
  {
   "cell_type": "markdown",
   "metadata": {},
   "source": [
    "- arange를 이용한 Tensor 생성\n",
    "- `torch.arange(start, end, step)`"
   ]
  },
  {
   "cell_type": "code",
   "execution_count": 62,
   "metadata": {},
   "outputs": [
    {
     "data": {
      "text/plain": [
       "tensor([0.0000, 0.5000, 1.0000, 1.5000, 2.0000, 2.5000])"
      ]
     },
     "execution_count": 62,
     "metadata": {},
     "output_type": "execute_result"
    }
   ],
   "source": [
    "torch.arange(0, 3, step=0.5)"
   ]
  },
  {
   "cell_type": "markdown",
   "metadata": {},
   "source": [
    "# Tensor 데이터 타입"
   ]
  },
  {
   "cell_type": "code",
   "execution_count": 63,
   "metadata": {},
   "outputs": [
    {
     "data": {
      "text/plain": [
       "tensor([[1., 2., 3.],\n",
       "        [4., 0., 0.]], device='cuda:0')"
      ]
     },
     "execution_count": 63,
     "metadata": {},
     "output_type": "execute_result"
    }
   ],
   "source": [
    "# 2행 3열의 Float 타입의 Tensor 생성\n",
    "torch.cuda.FloatTensor(2, 3)"
   ]
  },
  {
   "cell_type": "code",
   "execution_count": 64,
   "metadata": {},
   "outputs": [
    {
     "data": {
      "text/plain": [
       "tensor([2., 3.], device='cuda:0')"
      ]
     },
     "execution_count": 64,
     "metadata": {},
     "output_type": "execute_result"
    }
   ],
   "source": [
    "# 리스트를 입력해서 특정 리스트를 Tensor로 변환하기\n",
    "torch.cuda.FloatTensor([2, 3])"
   ]
  },
  {
   "cell_type": "code",
   "execution_count": 65,
   "metadata": {},
   "outputs": [
    {
     "data": {
      "text/plain": [
       "tensor([2, 3], device='cuda:0', dtype=torch.int32)"
      ]
     },
     "execution_count": 65,
     "metadata": {},
     "output_type": "execute_result"
    }
   ],
   "source": [
    "# float type을 int type으로 형 변환\n",
    "x = torch.cuda.FloatTensor([2, 3])\n",
    "x.type_as(torch.cuda.IntTensor())"
   ]
  },
  {
   "cell_type": "code",
   "execution_count": 67,
   "metadata": {},
   "outputs": [
    {
     "name": "stdout",
     "output_type": "stream",
     "text": [
      "tensor([2., 3.], device='cuda:0')\n",
      "tensor([2., 3.])\n"
     ]
    }
   ],
   "source": [
    "print(torch.cuda.FloatTensor([2, 3])) # GPU Tensor\n",
    "print(torch.FloatTensor([2, 3])) # CPU Tensor"
   ]
  },
  {
   "cell_type": "markdown",
   "metadata": {},
   "source": [
    "# Numpy to Tensor or Tensor to Numpy"
   ]
  },
  {
   "cell_type": "code",
   "execution_count": 68,
   "metadata": {},
   "outputs": [],
   "source": [
    "import torch\n",
    "import numpy as np"
   ]
  },
  {
   "cell_type": "code",
   "execution_count": 69,
   "metadata": {},
   "outputs": [
    {
     "data": {
      "text/plain": [
       "array([[1, 2, 3],\n",
       "       [4, 5, 6]])"
      ]
     },
     "execution_count": 69,
     "metadata": {},
     "output_type": "execute_result"
    }
   ],
   "source": [
    "x1 = np.ndarray(shape=(2, 3), dtype = int, buffer=np.array([1, 2, 3, 4, 5, 6]))\n",
    "x1"
   ]
  },
  {
   "cell_type": "code",
   "execution_count": 70,
   "metadata": {},
   "outputs": [
    {
     "data": {
      "text/plain": [
       "tensor([[1, 2, 3],\n",
       "        [4, 5, 6]])"
      ]
     },
     "execution_count": 70,
     "metadata": {},
     "output_type": "execute_result"
    }
   ],
   "source": [
    "torch.from_numpy(x1)"
   ]
  },
  {
   "cell_type": "code",
   "execution_count": 71,
   "metadata": {},
   "outputs": [
    {
     "data": {
      "text/plain": [
       "array([[1, 2, 3],\n",
       "       [4, 5, 6]])"
      ]
     },
     "execution_count": 71,
     "metadata": {},
     "output_type": "execute_result"
    }
   ],
   "source": [
    "x2 = torch.from_numpy(x1)\n",
    "x2.numpy()"
   ]
  },
  {
   "cell_type": "code",
   "execution_count": 72,
   "metadata": {},
   "outputs": [
    {
     "data": {
      "text/plain": [
       "tensor([[1., 2., 3.],\n",
       "        [4., 5., 6.]])"
      ]
     },
     "execution_count": 72,
     "metadata": {},
     "output_type": "execute_result"
    }
   ],
   "source": [
    "x2.float()"
   ]
  },
  {
   "cell_type": "markdown",
   "metadata": {},
   "source": [
    "# CPU type과 GPU type의 Tensor"
   ]
  },
  {
   "cell_type": "code",
   "execution_count": 73,
   "metadata": {},
   "outputs": [
    {
     "data": {
      "text/plain": [
       "tensor([[1., 2., 3.],\n",
       "        [4., 5., 6.]], device='cuda:0')"
      ]
     },
     "execution_count": 73,
     "metadata": {},
     "output_type": "execute_result"
    }
   ],
   "source": [
    "x = torch.FloatTensor([[1, 2, 3], [4, 5, 6]])\n",
    "x_gpu = x.cuda()\n",
    "x_gpu"
   ]
  },
  {
   "cell_type": "code",
   "execution_count": 74,
   "metadata": {},
   "outputs": [
    {
     "data": {
      "text/plain": [
       "tensor([[1., 2., 3.],\n",
       "        [4., 5., 6.]])"
      ]
     },
     "execution_count": 74,
     "metadata": {},
     "output_type": "execute_result"
    }
   ],
   "source": [
    "x_cpu = x_gpu.cpu()\n",
    "x_cpu"
   ]
  },
  {
   "cell_type": "code",
   "execution_count": 75,
   "metadata": {},
   "outputs": [
    {
     "data": {
      "text/plain": [
       "tensor([0, 2])"
      ]
     },
     "execution_count": 75,
     "metadata": {},
     "output_type": "execute_result"
    }
   ],
   "source": []
  },
  {
   "cell_type": "code",
   "execution_count": null,
   "metadata": {},
   "outputs": [],
   "source": []
  }
 ],
 "metadata": {
  "kernelspec": {
   "display_name": "Pytorch",
   "language": "python",
   "name": "pytorch"
  },
  "language_info": {
   "codemirror_mode": {
    "name": "ipython",
    "version": 3
   },
   "file_extension": ".py",
   "mimetype": "text/x-python",
   "name": "python",
   "nbconvert_exporter": "python",
   "pygments_lexer": "ipython3",
   "version": "3.8.5"
  }
 },
 "nbformat": 4,
 "nbformat_minor": 4
}
