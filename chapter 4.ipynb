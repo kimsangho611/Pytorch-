{
 "cells": [
  {
   "cell_type": "markdown",
   "metadata": {},
   "source": [
    "# 파이토치를 활요한 MNIST 손글씨 데이터 분류"
   ]
  },
  {
   "cell_type": "code",
   "execution_count": 80,
   "metadata": {},
   "outputs": [],
   "source": [
    "import torch\n",
    "import numpy as np\n",
    "from sklearn.datasets import fetch_openml\n",
    "\n",
    "mnist = fetch_openml('mnist_784', version=1, cache=True)"
   ]
  },
  {
   "cell_type": "markdown",
   "metadata": {},
   "source": [
    "### 1. 데이터 전처리"
   ]
  },
  {
   "cell_type": "code",
   "execution_count": 81,
   "metadata": {},
   "outputs": [
    {
     "name": "stdout",
     "output_type": "stream",
     "text": [
      "Label is 5\n"
     ]
    },
    {
     "data": {
      "image/png": "[encoded data removed]",
      "text/plain": [
       "<Figure size 432x288 with 1 Axes>"
      ]
     },
     "metadata": {
      "needs_background": "light"
     },
     "output_type": "display_data"
    }
   ],
   "source": [
    "X = mnist.data / 255 # [0, 1] 구간으로 정규화\n",
    "Y = mnist.target.astype(np.int8)\n",
    "\n",
    "import matplotlib.pyplot as plt\n",
    "%matplotlib inline\n",
    "\n",
    "plt.imshow(X[0].reshape(28, 28), cmap = 'gray')\n",
    "print(f\"Label is {Y[0]}\")"
   ]
  },
  {
   "cell_type": "markdown",
   "metadata": {},
   "source": [
    "### 2. DataLoader 생성\n",
    "- 정규화를 마친 MNIST데이터를 파이토치 신경망에서 다룰 수 있게 DataLoader 객체로 변환한다.\n",
    "- step\n",
    "    - 훈련 데이터와 테스트 데이터로 분할\n",
    "    - Numpy 배열을 Tensor 객체로 변환\n",
    "    - DataSet 객체 생성\n",
    "    - DataSet 객체를 DataLoader 객체로 변환"
   ]
  },
  {
   "cell_type": "code",
   "execution_count": 82,
   "metadata": {},
   "outputs": [],
   "source": [
    "import torch\n",
    "from torch.utils.data import TensorDataset, DataLoader\n",
    "from sklearn.model_selection import train_test_split"
   ]
  },
  {
   "cell_type": "code",
   "execution_count": 83,
   "metadata": {},
   "outputs": [],
   "source": [
    "# 2.1 데이터 분할\n",
    "X_train, X_test, Y_train, Y_test = train_test_split(X, Y, test_size=1/7, random_state=0) # 6 : 1비율로 데이터 분할"
   ]
  },
  {
   "cell_type": "code",
   "execution_count": 84,
   "metadata": {},
   "outputs": [],
   "source": [
    "# 2.2 데이터를 파이토치 텐서로 변환\n",
    "# torch.tensor의 경우 데이터를 항상 복사를 하지만 torch.Tensor의 경우 파이토치 텐서로 변환을 한다.\n",
    "# CPU에서 실행할 때는 .cuda()를 없애고 실행한다.\n",
    "X_train = torch.Tensor(X_train).cuda()\n",
    "X_test = torch.Tensor(X_test).cuda()\n",
    "Y_train = torch.LongTensor(Y_train).cuda()\n",
    "Y_test = torch.LongTensor(Y_test).cuda()"
   ]
  },
  {
   "cell_type": "code",
   "execution_count": 85,
   "metadata": {},
   "outputs": [],
   "source": [
    "# 2.3 데이터와 정답 레이블을 하나로 묶어 DataSet으로 만듬\n",
    "ds_train = TensorDataset(X_train, Y_train) # TensorDataset함수는 첫번째 차원의 dimension이 같을 때 하나의 데이터셋으로 만들어줌\n",
    "ds_test = TensorDataset(X_test, Y_test)"
   ]
  },
  {
   "cell_type": "code",
   "execution_count": 86,
   "metadata": {},
   "outputs": [],
   "source": [
    "# 2.4 미니 배치 크기를 지정해 DataLoader객체로 변환\n",
    "# Chainer의 iterators.SerialIterator와 비슷함\n",
    "loader_train = DataLoader(ds_train, batch_size=64, shuffle=True)\n",
    "loader_test = DataLoader(ds_test, batch_size=64, shuffle=False)"
   ]
  },
  {
   "cell_type": "markdown",
   "metadata": {},
   "source": [
    "### 3. 신경망 구성"
   ]
  },
  {
   "cell_type": "code",
   "execution_count": 87,
   "metadata": {},
   "outputs": [
    {
     "name": "stdout",
     "output_type": "stream",
     "text": [
      "Sequential(\n",
      "  (fc1): Linear(in_features=784, out_features=100, bias=True)\n",
      "  (relu1): ReLU()\n",
      "  (fc2): Linear(in_features=100, out_features=100, bias=True)\n",
      "  (relu2): ReLU()\n",
      "  (fc3): Linear(in_features=100, out_features=10, bias=True)\n",
      ")\n"
     ]
    }
   ],
   "source": [
    "from torch import nn\n",
    "\n",
    "# 2개의 hidden layer를 이용해 구성\n",
    "model = nn.Sequential()\n",
    "model.add_module('fc1', nn.Linear(28*28*1, 100))\n",
    "model.add_module('relu1', nn.ReLU())\n",
    "model.add_module('fc2', nn.Linear(100, 100))\n",
    "model.add_module('relu2', nn.ReLU())\n",
    "model.add_module('fc3', nn.Linear(100, 10))\n",
    "model.cuda() # GPU로 실행, CPU로 실행할 때는 이 줄을 주석 처리한다.\n",
    "print(model)"
   ]
  },
  {
   "cell_type": "markdown",
   "metadata": {},
   "source": [
    "### 4. 오차함수 및 최적화 기법 설정"
   ]
  },
  {
   "cell_type": "code",
   "execution_count": 88,
   "metadata": {},
   "outputs": [],
   "source": [
    "from torch import optim\n",
    "\n",
    "# 오차 함수 선택\n",
    "loss_fn = nn.CrossEntropyLoss() # criterion(표준)을 변수명으로 사용하는 경우가 많다\n",
    "\n",
    "# 가중치를 학습하기 위한 최적화 기법 선택\n",
    "optimizer = optim.Adam(model.parameters(), lr=0.01)"
   ]
  },
  {
   "cell_type": "markdown",
   "metadata": {},
   "source": [
    "### 5. 학습 및 추론 설정"
   ]
  },
  {
   "cell_type": "code",
   "execution_count": 89,
   "metadata": {},
   "outputs": [],
   "source": [
    "# 학습 중 1 에포크에서 수행할 일을 함수로 정의\n",
    "# 파이토치에는 Chainer의 training.Trainer()에 해당하는 것이 없음\n",
    "def train(epoch):\n",
    "    model.train() # 신경망을 학습 모드로 전환\n",
    "    for data, targets in loader_train: # 미니 배치를 하나씩 꺼내 학습을 진행\n",
    "        optimizer.zero_grad() # 경사를 0으로 초기화함\n",
    "        outputs = model(data) # 데이터를 입력하고 출력을 계산\n",
    "        loss = loss_fn(outputs, targets) # 출력과 훈련 데이터 정답 간의 오차를 계산\n",
    "        loss.backward() # 오차를 역전파 계산\n",
    "        optimizer.step() # 역전파 계산한 값으로 가중치를 수정\n",
    "    print(f\"Epoch : {epoch:5d} 완료\")"
   ]
  },
  {
   "cell_type": "code",
   "execution_count": 90,
   "metadata": {},
   "outputs": [],
   "source": [
    "# 추론 1 에포크에서 할 일을 함수로 정의\n",
    "# 파이토치에는 Chainer의 trainer.extend(extensions.Evaluator())에 해당하는 것이 없음\n",
    "def test():\n",
    "    model.eval() # 신경망을 추론 모드로 전환\n",
    "    correct = 0\n",
    "    \n",
    "    # 데이터 로데에서 미니 배치를 하나씩 꺼내 추론을 수행\n",
    "    with torch.no_grad():\n",
    "        for data, targets in loader_test:\n",
    "            outputs = model(data) # 데이터를 입력하고 출력을 계산\n",
    "            # 추론 계산\n",
    "            _, predicted = torch.max(outputs.data, 1) # 확률이 가장 높은 레이블이 무엇인지 계산\n",
    "            correct += predicted.eq(targets.data.view_as(predicted)).sum() # 정답과 일치한 경우 정답 카운드를 증가\n",
    "    data_num = len(loader_test.dataset) # 데이터의 총 건수\n",
    "    print(f\"Accuracy : {correct}/{data_num} ({(100. * correct / data_num):.9f}%)\")"
   ]
  },
  {
   "cell_type": "markdown",
   "metadata": {},
   "source": [
    "### 6. 학습 및 추론 수행"
   ]
  },
  {
   "cell_type": "code",
   "execution_count": 91,
   "metadata": {},
   "outputs": [
    {
     "name": "stdout",
     "output_type": "stream",
     "text": [
      "Accuracy : 1005/10000 (10.050000191%)\n"
     ]
    }
   ],
   "source": [
    "test()"
   ]
  },
  {
   "cell_type": "code",
   "execution_count": 92,
   "metadata": {
    "scrolled": true
   },
   "outputs": [
    {
     "name": "stdout",
     "output_type": "stream",
     "text": [
      "Epoch :     0 완료\n",
      "Epoch :     1 완료\n",
      "Epoch :     2 완료\n",
      "Epoch :     3 완료\n",
      "Epoch :     4 완료\n",
      "Epoch :     5 완료\n",
      "Epoch :     6 완료\n",
      "Epoch :     7 완료\n",
      "Epoch :     8 완료\n",
      "Epoch :     9 완료\n",
      "Epoch :    10 완료\n",
      "Epoch :    11 완료\n",
      "Epoch :    12 완료\n",
      "Epoch :    13 완료\n",
      "Epoch :    14 완료\n",
      "Epoch :    15 완료\n",
      "Epoch :    16 완료\n",
      "Epoch :    17 완료\n",
      "Epoch :    18 완료\n",
      "Epoch :    19 완료\n",
      "Epoch :    20 완료\n",
      "Epoch :    21 완료\n",
      "Epoch :    22 완료\n",
      "Epoch :    23 완료\n",
      "Epoch :    24 완료\n",
      "Epoch :    25 완료\n",
      "Epoch :    26 완료\n",
      "Epoch :    27 완료\n",
      "Epoch :    28 완료\n",
      "Epoch :    29 완료\n",
      "Accuracy : 9660/10000 (96.599998474%)\n"
     ]
    }
   ],
   "source": [
    "for epoch in range(30):\n",
    "    train(epoch)\n",
    "test()\n",
    "\n",
    "# GPU로 실행했을 때\n",
    "# CPU times: user 56.3 s, sys: 579 ms, total: 56.9 s\n",
    "# Wall time: 1min 4s\n",
    "\n",
    "# CPU로 실행했을 때\n",
    "# CPU times: user 4min 54s, sys: 229 ms, total: 4min 55s\n",
    "# Wall time: 1min 14s"
   ]
  },
  {
   "cell_type": "code",
   "execution_count": 94,
   "metadata": {},
   "outputs": [
    {
     "name": "stdout",
     "output_type": "stream",
     "text": [
      "예측 결과 : 4\n",
      "이 이미지 데이터의 정답 레이블은 4\n"
     ]
    },
    {
     "data": {
      "image/png": "[encoded data removed]",
      "text/plain": [
       "<Figure size 432x288 with 1 Axes>"
      ]
     },
     "metadata": {
      "needs_background": "light"
     },
     "output_type": "display_data"
    }
   ],
   "source": [
    "# 특정 이미지를 대상으로 추론 계산\n",
    "index = 4000\n",
    "\n",
    "model.eval() # 신경망을 추론 모드로 변경\n",
    "data = X_test[index]\n",
    "outputs = model(data)\n",
    "_, predicted = torch.max(outputs.data, 0) # 여기서 0인 이유는 한장이기 때문 여러 장의 되면 2차원이 되므로 가장 마지막 차원에 대한 최댓값을 구해야 하기 떄문에 1이 된다.\n",
    "\n",
    "print(f\"예측 결과 : {predicted}\")\n",
    "\n",
    "X_test_show = (X_test[index]).to(\"cpu\").numpy()\n",
    "plt.imshow(X_test_show.reshape(28,28), cmap = \"gray\")\n",
    "print(f\"이 이미지 데이터의 정답 레이블은 {Y_test[index]}\")"
   ]
  },
  {
   "cell_type": "markdown",
   "metadata": {},
   "source": [
    "# 파이토치 사용법에 대한 보충 설명\n",
    "- 체이너처럼 입력 데이터에 따라 유연하게 바뀌는 신경망을 구성하기 위해서는 다음과 같이 코딩한다.\n",
    "- 입력 데이터 x에 따라 순전파 계산식이 바뀌는 것이 Define by run 설계 사상의 특징이다."
   ]
  },
  {
   "cell_type": "code",
   "execution_count": 95,
   "metadata": {},
   "outputs": [],
   "source": [
    "# 신경망 구성(체이너 스타일)\n",
    "import torch.nn as nn\n",
    "import torch.nn.functional as F\n",
    "\n",
    "class Net(nn.Module):\n",
    "    def __init__(self, n_in, n_mid, n_out):\n",
    "        super(Net, self).__init__() # 이는 nn.Module.__init__()를 실행하기 위한 코드로 상속 받은 경우 반드시 써야 한다.\n",
    "        self.fc1 = nn.Linear(n_in, n_mid)\n",
    "        self.fc2 = nn.Linear(n_mid, n_mid)\n",
    "        self.fc3 = nn.Linear(n_mid, n_out)\n",
    "        \n",
    "    def forward(self, x):\n",
    "        h1 = F.relu(self.fc1(x))\n",
    "        h2 = F.relu(self.fc2(h1))\n",
    "        output = self.fc3(h2)\n",
    "        \n",
    "        return output"
   ]
  },
  {
   "cell_type": "code",
   "execution_count": 96,
   "metadata": {},
   "outputs": [
    {
     "name": "stdout",
     "output_type": "stream",
     "text": [
      "Net(\n",
      "  (fc1): Linear(in_features=784, out_features=100, bias=True)\n",
      "  (fc2): Linear(in_features=100, out_features=100, bias=True)\n",
      "  (fc3): Linear(in_features=100, out_features=10, bias=True)\n",
      ")\n"
     ]
    }
   ],
   "source": [
    "model = Net(n_in=28*28*1, n_mid=100, n_out=10)\n",
    "print(model)"
   ]
  },
  {
   "cell_type": "code",
   "execution_count": null,
   "metadata": {},
   "outputs": [],
   "source": []
  }
 ],
 "metadata": {
  "kernelspec": {
   "display_name": "Pytorch",
   "language": "python",
   "name": "pytorch"
  },
  "language_info": {
   "codemirror_mode": {
    "name": "ipython",
    "version": 3
   },
   "file_extension": ".py",
   "mimetype": "text/x-python",
   "name": "python",
   "nbconvert_exporter": "python",
   "pygments_lexer": "ipython3",
   "version": "3.8.5"
  }
 },
 "nbformat": 4,
 "nbformat_minor": 4
}
